{
 "cells": [
  {
   "cell_type": "markdown",
   "metadata": {},
   "source": [
    "# Day 10 Reading Journal\n",
    "\n",
    "This journal includes several required exercises, but it is meant to encourage active reading more generally.  You should use the journal to take detailed notes, catalog questions, and explore the content from Think Python deeply.\n",
    "\n",
    "Reading: Review Think Python Chapters 15-17\n",
    "\n",
    "**Due: Thursday, February 23 at 12 noon**\n",
    "\n"
   ]
  },
  {
   "cell_type": "markdown",
   "metadata": {},
   "source": [
    "## [Chapter 15](http://www.greenteapress.com/thinkpython2/html/thinkpython2016.html), [Chapter 16](http://www.greenteapress.com/thinkpython2/html/thinkpython2017.html), [Chapter 17](http://www.greenteapress.com/thinkpython2/html/thinkpython2018.html)\n",
    "\n",
    "\n",
    "By the end of chapter 17, we have all the tools we need to create our own user-defined types known as classes. In this reading journal, we're asking you to review and solidify your understanding of this material so we can build on it for the rest of the course. \n",
    "\n",
    "If you didn't get a chance to fully complete the Day 9 reading journal, you may want to do so now."
   ]
  },
  {
   "cell_type": "markdown",
   "metadata": {
    "problem": "Terminology"
   },
   "source": [
    "### Terminology\n",
    "\n",
    "You should be familiar with the following list of terms and concepts. If any of them are unclear to you, re-read, ask, write a definition in your own words, and try an example if appropriate.\n",
    "\n",
    " - class\n",
    " - object\n",
    " - instance\n",
    " - attribute\n",
    " - method\n",
    " - shallow vs deep copying\n",
    " - pure functions vs modifiers\n",
    " - initializing object instances\n",
    " "
   ]
  },
  {
   "cell_type": "markdown",
   "metadata": {
    "is_question": true,
    "problem": "Exercise 1"
   },
   "source": [
    "### Exercise\n",
    "\n",
    "We're going to take the first steps toward writing a calendar application. To keep things simple, we'll restrict ourselves to a single day for now. Write an `Event` class with the following attributes:\n",
    "\n",
    " - `name`  : Title for the `Event`\n",
    " - `start` : `Time` object representing the start time for the `Event`\n",
    " - `end`   : `Time` object representing the end time for the `Event`\n",
    "\n",
    "You can also augment your `Event` class with additional attributes, such as location and attendees.\n",
    "\n",
    "Write `__init__` and `__str__` methods for your `Event` class."
   ]
  },
  {
   "cell_type": "code",
<<<<<<< HEAD
   "execution_count": 4,
   "metadata": {
    "collapsed": false,
    "solution": "Exercise 1"
   },
   "outputs": [
    {
     "name": "stdout",
     "output_type": "stream",
     "text": [
      "Event: Ball, Start: 18:0:0, End: 23:0:0\n"
     ]
    }
   ],
   "source": [
    "class Time:\n",
    "    def __init__(self, hours=0, minutes=0, seconds=0):\n",
    "        self.hours = hours\n",
    "        self.minutes = minutes\n",
    "        self.seconds = seconds\n",
    "        \n",
    "    def __str__(self):\n",
    "        return \"{}:{}:{}\".format(self.hours, self.minutes, self.seconds)\n",
    "\n",
    "class Event:\n",
    "    def __init__(self, name='', start=Time(), end=Time()):\n",
    "        self.name = name\n",
    "        self.start = start\n",
    "        self.end = end\n",
    "        \n",
    "    def __str__(self):\n",
    "        return \"Event: {}, Start: {}, End: {}\".format(self.name, self.start, self.end)\n",
    "\n",
    "\n",
    "a_ball = Event('Ball', Time(18), Time(23))\n",
    "print(a_ball)"
   ]
=======
   "execution_count": null,
   "metadata": {
    "collapsed": true,
    "solution": "Exercise 1"
   },
   "outputs": [],
   "source": []
>>>>>>> 5ef49fbf19ed171f35a4532623cabcf161ba1853
  },
  {
   "cell_type": "markdown",
   "metadata": {
    "is_question": true,
    "problem": "Exercise 2"
   },
   "source": [
    "### Exercise\n",
    "\n",
    "Write a `duration` method that returns the duration of the `Event` in minutes."
   ]
  },
  {
   "cell_type": "code",
<<<<<<< HEAD
   "execution_count": 13,
   "metadata": {
    "collapsed": false,
    "solution": "Exercise 2"
   },
   "outputs": [
    {
     "data": {
      "text/plain": [
       "TestResults(failed=0, attempted=1)"
      ]
     },
     "execution_count": 13,
     "metadata": {},
     "output_type": "execute_result"
    }
   ],
   "source": [
    "\n",
    "class Time:\n",
    "    def __init__(self, hours=0, minutes=0, seconds=0):\n",
    "        self.hours = hours\n",
    "        self.minutes = minutes\n",
    "        self.seconds = seconds\n",
    "        \n",
    "    def __str__(self):\n",
    "        return \"{}:{}:{}\".format(self.hours, self.minutes, self.seconds)\n",
    "\n",
    "class Event:\n",
    "    def __init__(self, name='', start=Time(), end=Time()):\n",
    "        self.name = name\n",
    "        self.start = start\n",
    "        self.end = end\n",
    "        \n",
    "    def __str__(self):\n",
    "        return \"Event: {}, Start: {}, End: {}\".format(self.name, self.start, self.end)\n",
    "    \n",
    "    def duration(self):\n",
    "        '''returns duration of event in minutes\n",
    "        >>> Event('Ball', Time(18, 20, 3), Time(23, 40, 40)).duration()\n",
    "        321'''\n",
    "        duration = 0\n",
    "        start = self.start.hours*60 + self.start.minutes + (1 if self.start.seconds > 30 else 0)\n",
    "        end = self.end.hours*60 + self.end.minutes + (1 if self.end.seconds > 30 else 0)\n",
    "        duration = end - start\n",
    "        return duration\n",
    "\n",
    "\n",
    "import doctest\n",
    "doctest.testmod()"
   ]
=======
   "execution_count": null,
   "metadata": {
    "collapsed": true,
    "solution": "Exercise 2"
   },
   "outputs": [],
   "source": []
>>>>>>> 5ef49fbf19ed171f35a4532623cabcf161ba1853
  },
  {
   "cell_type": "markdown",
   "metadata": {
    "is_question": true,
    "problem": "Exercise 3"
   },
   "source": [
    "### Exercise\n",
    "\n",
    "Write an `Agenda` class that contains several `Event`s for the day.\n",
    "\n",
    "**Quick check: ** How should you store `Event`s within your `Agenda` class?\n"
   ]
  },
  {
   "cell_type": "markdown",
   "metadata": {},
<<<<<<< HEAD
   "source": [
    "use a list to hold the event objects"
   ]
  },
  {
   "cell_type": "code",
   "execution_count": 26,
   "metadata": {
    "collapsed": false
   },
   "outputs": [
    {
     "name": "stdout",
     "output_type": "stream",
     "text": [
      "Agenda: Event: lin, Start: 10:50:0, End: 12:30:0, Event: softdes, Start: 13:30:0, End: 15:10:0, \n"
     ]
    }
   ],
   "source": [
    "class Time:\n",
    "    def __init__(self, hours=0, minutes=0, seconds=0):\n",
    "        self.hours = hours\n",
    "        self.minutes = minutes\n",
    "        self.seconds = seconds\n",
    "        \n",
    "    def __str__(self):\n",
    "        return \"{}:{}:{}\".format(self.hours, self.minutes, self.seconds)\n",
    "\n",
    "class Event:\n",
    "    def __init__(self, name='', start=Time(), end=Time()):\n",
    "        self.name = name\n",
    "        self.start = start\n",
    "        self.end = end\n",
    "        \n",
    "    def __str__(self):\n",
    "        return \"Event: {}, Start: {}, End: {}\".format(self.name, self.start, self.end)\n",
    "    \n",
    "    def duration(self):\n",
    "        '''returns duration of event in minutes\n",
    "        >>> Event('Ball', Time(18, 20, 3), Time(23, 40, 40)).duration()\n",
    "        321'''\n",
    "        duration = 0\n",
    "        start = self.start.hours*60 + self.start.minutes + (1 if self.start.seconds > 30 else 0)\n",
    "        end = self.end.hours*60 + self.end.minutes + (1 if self.end.seconds > 30 else 0)\n",
    "        duration = end - start\n",
    "        return duration\n",
    "\n",
    "class Agenda:\n",
    "    def __init__(self, event_list=None):\n",
    "        if event_list == None:\n",
    "            self.event_list = []\n",
    "        else:\n",
    "            self.event_list = event_list\n",
    "    \n",
    "    def __str__(self):\n",
    "        events = ''\n",
    "        for i in self.event_list:\n",
    "            events = events + str(i) + ', '\n",
    "        return \"Agenda: {}\".format(events)\n",
    "    \n",
    "    def add_events(self, *e):\n",
    "        for i in e:\n",
    "            self.event_list.append(i)\n",
    "            \n",
    "\n",
    "import doctest\n",
    "doctest.testmod()\n",
    "\n",
    "event1 = Event('lin', Time(10, 50), Time(12, 30))\n",
    "event2 = Event('softdes', Time(13, 30), Time(15, 10))\n",
    "agenda = Agenda()\n",
    "agenda.add_events(event1, event2)\n",
    "print(agenda)"
   ]
=======
   "source": []
>>>>>>> 5ef49fbf19ed171f35a4532623cabcf161ba1853
  },
  {
   "cell_type": "markdown",
   "metadata": {},
   "source": [
    " "
   ]
  },
  {
   "cell_type": "markdown",
   "metadata": {},
   "source": [
    "Your `Agenda` class should include a `print_agenda` method that prints out your schedule for the day, in order.\n",
    "\n",
    "**Optional:** Include a `is_feasible` method that returns `True` if your schedule has no time conflicts. You may want to write additional helper methods for the `Event` class to make this easier."
   ]
  },
  {
   "cell_type": "code",
   "execution_count": null,
   "metadata": {
    "collapsed": true,
    "solution": "Exercise 3"
   },
   "outputs": [],
<<<<<<< HEAD
   "source": [
    "class Time:\n",
    "    def __init__(self, hours=0, minutes=0, seconds=0):\n",
    "        self.hours = hours\n",
    "        self.minutes = minutes\n",
    "        self.seconds = seconds\n",
    "        \n",
    "    def __str__(self):\n",
    "        return \"{}:{}:{}\".format(self.hours, self.minutes, self.seconds)\n",
    "\n",
    "class Event:\n",
    "    def __init__(self, name='', start=Time(), end=Time()):\n",
    "        self.name = name\n",
    "        self.start = start\n",
    "        self.end = end\n",
    "        \n",
    "    def __str__(self):\n",
    "        return \"Event: {}, Start: {}, End: {}\".format(self.name, self.start, self.end)\n",
    "    \n",
    "    def duration(self):\n",
    "        '''returns duration of event in minutes\n",
    "        >>> Event('Ball', Time(18, 20, 3), Time(23, 40, 40)).duration()\n",
    "        321'''\n",
    "        duration = 0\n",
    "        start = self.start.hours*60 + self.start.minutes + (1 if self.start.seconds > 30 else 0)\n",
    "        end = self.end.hours*60 + self.end.minutes + (1 if self.end.seconds > 30 else 0)\n",
    "        duration = end - start\n",
    "        return duration\n",
    "\n",
    "class Agenda:\n",
    "    def __init__(self, event_list=None):\n",
    "        if event_list == None:\n",
    "            self.event_list = []\n",
    "        else:\n",
    "            self.event_list = event_list\n",
    "    \n",
    "    def __str__(self):\n",
    "        events = ''\n",
    "        for i in self.event_list:\n",
    "            events = events + str(i) + ', '\n",
    "        return \"Agenda: {}\".format(events)\n",
    "    \n",
    "    def add_events(self, *e):\n",
    "        for i in e:\n",
    "            self.event_list.append(i)\n",
    "            \n",
    "    def is_feasible\n",
    "            \n",
    "\n",
    "import doctest\n",
    "doctest.testmod()\n",
    "\n",
    "event1 = Event('lin', Time(10, 50), Time(12, 30))\n",
    "event2 = Event('softdes', Time(13, 30), Time(15, 10))\n",
    "agenda = Agenda()\n",
    "agenda.add_events(event1, event2)\n",
    "print(agenda)"
   ]
=======
   "source": []
>>>>>>> 5ef49fbf19ed171f35a4532623cabcf161ba1853
  },
  {
   "cell_type": "markdown",
   "metadata": {
    "is_question": true,
    "problem": "Exercise 4"
   },
   "source": [
    "### Going Beyond (optional)\n",
    "\n",
    "Some ideas for taking your application further:\n",
    " - Add people and/or places to the mix to create a scheduling assistant\n",
    " - Extend support for day-of-week or full date. A word of warning: dealing with dates and times in real applications is difficult due to the huge number of special cases (Perfect example: this reading journal is due on Leap Day). Consider using something like the Python [datetime](https://docs.python.org/3/library/datetime.html) module.\n",
    " - Use pickle or some other persistence strategy to save and load your `Agenda`."
   ]
  },
  {
   "cell_type": "code",
   "execution_count": null,
   "metadata": {
    "collapsed": true,
    "solution": "Exercise 4"
   },
   "outputs": [],
   "source": []
  },
  {
   "cell_type": "markdown",
   "metadata": {
    "poll_response": true,
    "solution": "Time spent"
   },
   "source": [
    " "
   ]
  },
  {
   "cell_type": "markdown",
   "metadata": {
    "is_question": true,
    "problem": "Feedback"
   },
   "source": [
    "## Reading Journal feedback\n",
    "\n",
    "[Please complete this short survey](https://docs.google.com/forms/d/e/1FAIpQLScQekhUrf6YYjpfQiAAbavLIA-IJklv_PX1BWbGgxj7JPolmw/viewform?c=0&w=1)\n",
    "\n",
    "If you have any comments on this Reading Journal, feel free to leave them in the survey linked above. This could include suggestions to improve the exercises, topics you'd like to see covered in class next time, or other feedback.\n",
    "\n",
    "If you have Python questions or run into problems while completing the reading, you should post them to Piazza instead so you can get a quick response before your journal is submitted."
   ]
  },
  {
   "cell_type": "markdown",
   "metadata": {
    "feedback_response": true,
    "solution": "Feedback"
   },
   "source": [
    " "
   ]
  }
 ],
 "metadata": {
  "kernelspec": {
<<<<<<< HEAD
   "display_name": "Python 3",
   "language": "python",
   "name": "python3"
=======
   "display_name": "Python 2",
   "language": "python",
   "name": "python2"
>>>>>>> 5ef49fbf19ed171f35a4532623cabcf161ba1853
  },
  "language_info": {
   "codemirror_mode": {
    "name": "ipython",
<<<<<<< HEAD
    "version": 3
=======
    "version": 2
>>>>>>> 5ef49fbf19ed171f35a4532623cabcf161ba1853
   },
   "file_extension": ".py",
   "mimetype": "text/x-python",
   "name": "python",
   "nbconvert_exporter": "python",
<<<<<<< HEAD
   "pygments_lexer": "ipython3",
   "version": "3.4.3"
=======
   "pygments_lexer": "ipython2",
   "version": "2.7.10"
>>>>>>> 5ef49fbf19ed171f35a4532623cabcf161ba1853
  }
 },
 "nbformat": 4,
 "nbformat_minor": 0
}
