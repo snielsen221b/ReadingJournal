{
 "cells": [
  {
   "cell_type": "markdown",
   "metadata": {},
   "source": [
    "# Day 4 Reading Journal\n",
    "\n",
    "This journal includes several required exercises, but it is meant to encourage active reading more generally.  You should use the journal to take detailed notes, catalog questions, and explore the content from Think Python deeply.\n",
    "\n",
    "Reading: Think Python Chapter 10\n",
    "\n",
    "**Due: Monday, January 30 at 12 noon**\n",
    "\n"
   ]
  },
  {
   "cell_type": "markdown",
   "metadata": {},
   "source": [
    "## [Chapter 10](http://www.greenteapress.com/thinkpython2/html/thinkpython2011.html)\n",
    "\n",
    "You may want to review [state diagrams in Chapter 2](http://greenteapress.com/thinkpython2/html/thinkpython2003.html). [Python Tutor](http://pythontutor.com/) is also helpful for visualizing the state of your program.\n",
    "\n"
   ]
  },
  {
   "cell_type": "markdown",
   "metadata": {},
   "source": [
    "### Exercise 10.3 \n",
    "Write a function called `middle` that takes a list and returns a new list that contains all but the first and last elements. So `middle([1,2,3,4])` should return `[2,3]`."
   ]
  },
  {
   "cell_type": "code",
   "execution_count": 7,
   "metadata": {
    "collapsed": false
   },
   "outputs": [
    {
     "data": {
      "text/plain": [
       "TestResults(failed=0, attempted=2)"
      ]
     },
     "execution_count": 7,
     "metadata": {},
     "output_type": "execute_result"
    }
   ],
   "source": [
    "def middle(input_list):\n",
    "    '''returns list sans first and last elements\n",
    "    >>> middle([1,2])\n",
    "    []\n",
    "    >>> middle([1,2,3])\n",
    "    [2]\n",
    "    '''\n",
    "    end = len(input_list)\n",
    "    new_list = input_list[1:end-1]\n",
    "    return new_list\n",
    "    \n",
    "import doctest\n",
    "doctest.testmod()"
   ]
  },
  {
   "cell_type": "markdown",
   "metadata": {},
   "source": [
    "### Chapter 10.4 Notes\n",
    "List operations:\n",
    "* concatenation: $[1,2] + [3,4] = [1,2,3,4]$\n",
    "* repetition: $[1]*4 = [1,1,1,1]$"
   ]
  },
  {
   "cell_type": "markdown",
   "metadata": {},
   "source": [
    "### Exercise 10.4 \n",
    "Write a function called `chop` that takes a list, modifies it by removing the first and last elements, and returns `None`.\n",
    "\n",
    "What is the difference between `middle` and `chop`? Sketch out the program state or take a look at each in Python Tutor and answer the question in the Markdown cell below."
   ]
  },
  {
   "cell_type": "code",
   "execution_count": 4,
   "metadata": {
    "collapsed": false
   },
   "outputs": [
    {
     "name": "stdout",
     "output_type": "stream",
     "text": [
      "[2, 3, 4]\n"
     ]
    }
   ],
   "source": [
    "def chop(a_list):\n",
    "    '''removes first and last elements of list and returns None'''\n",
    "    a_list = a_list[1:len(a_list)-1]\n",
    "    return None\n",
    "\n",
    "a_list = [2,3,4]\n",
    "chop(a_list)\n",
    "print(a_list)"
   ]
  },
  {
   "cell_type": "markdown",
   "metadata": {},
   "source": [
    "Chop doesn't have a return value, but it changes the value of a_list (the argument), or tries to. I have not observed its success and I have no idea why it would ever be useful. "
   ]
  },
  {
   "cell_type": "markdown",
   "metadata": {},
   "source": [
    "### Exercise 10.6 \n",
    "Two words are anagrams if you can rearrange the letters from one to spell the other. Write a function called `is_anagram` that takes two strings and returns `True` if they are anagrams."
   ]
  },
  {
   "cell_type": "code",
   "execution_count": 12,
   "metadata": {
    "collapsed": false
   },
   "outputs": [
    {
     "data": {
      "text/plain": [
       "TestResults(failed=0, attempted=5)"
      ]
     },
     "execution_count": 12,
     "metadata": {},
     "output_type": "execute_result"
    }
   ],
   "source": [
    "def count(letter, string):\n",
    "    '''returns number of letter in the string\n",
    "    >>> count('a','banana')\n",
    "    3\n",
    "    >>> count('a', 'dog')\n",
    "    0\n",
    "    '''\n",
    "    count = 0\n",
    "    for c in string:\n",
    "        if c == letter:\n",
    "            count = count + 1\n",
    "    return count\n",
    "\n",
    "def is_anagram(string_1,string_2):\n",
    "    '''returns True if string_1 and string_2 are anagrams\n",
    "    >>> is_anagram('','')\n",
    "    True\n",
    "    >>> is_anagram('iamlordvoldemort','tommarvoloriddle')\n",
    "    True\n",
    "    >>> is_anagram('pencil','planet')\n",
    "    False\n",
    "    '''\n",
    "    anagram = False\n",
    "    count_1 = []\n",
    "    count_2 = []\n",
    "    counted = []\n",
    "    i = 0\n",
    "    for c in string_1:\n",
    "        if c not in counted:\n",
    "            count_1 = count_1 + [count(c,string_1)]\n",
    "            count_2 = count_2 + [count(c,string_2)]\n",
    "            i = i + 1\n",
    "    if count_1 == count_2:\n",
    "        anagram = True\n",
    "    return anagram\n",
    "    \n",
    "     \n",
    "import doctest\n",
    "doctest.testmod()"
   ]
  },
  {
   "cell_type": "markdown",
   "metadata": {},
   "source": [
    "### Exercise 10.8  \n",
    "The (so-called) Birthday Paradox: <br /><br />\n",
    "1\\. Write a function called `has_duplicates` that takes a list and returns `True` if there is any element that appears more than once. It should not modify the original list.\n",
    "\n",
    "2\\. If there are 23 students in your class, what are the chances that two of you have the same birthday? Put your answer in the Markdown cell below. You can estimate this probability by generating random samples of 23 birthdays and checking for matches. Hint: you can generate random birthdays with the randint function from the [random module](https://docs.python.org/2/library/random.html).\n",
    "\n",
    "You can read about this problem at http://en.wikipedia.org/wiki/Birthday_paradox, and you can download Allen's solution from http://greenteapress.com/thinkpython2/code/birthday.py."
   ]
  },
  {
   "cell_type": "code",
   "execution_count": 12,
   "metadata": {
    "collapsed": false
   },
   "outputs": [
    {
     "name": "stdout",
     "output_type": "stream",
     "text": [
      "0.6\n",
      "0.48\n",
      "0.503\n",
      "0.5009\n",
      "0.50539\n"
     ]
    },
    {
     "data": {
      "text/plain": [
       "TestResults(failed=0, attempted=6)"
      ]
     },
     "execution_count": 12,
     "metadata": {},
     "output_type": "execute_result"
    }
   ],
   "source": [
    "import doctest, random\n",
    "\n",
    "def count(i, a_list):\n",
    "    '''returns number of i in a_list\n",
    "    >>> count(1, [1,1,2,1])\n",
    "    3\n",
    "    >>> count(2, [1,1,1])\n",
    "    0\n",
    "    '''\n",
    "    count = 0\n",
    "    for n in a_list:\n",
    "        if n == i:\n",
    "            count = count + 1\n",
    "    return count\n",
    "\n",
    "\n",
    "def has_duplicates(a_list):\n",
    "    '''returns True if a_list has any duplicates\n",
    "    >>> has_duplicates([2,2,2])\n",
    "    True\n",
    "    >>> has_duplicates([2,3,4])\n",
    "    False\n",
    "    >>> has_duplicates([2,2,4,4])\n",
    "    True\n",
    "    '''\n",
    "    duplicates = False\n",
    "    for c in a_list:\n",
    "        if count(c, a_list) >= 2:\n",
    "            duplicates = True\n",
    "    return duplicates\n",
    "\n",
    "def generate_sample(x):\n",
    "    '''generates sample of x random birthdays\n",
    "    >>> len(generate_sample(23))\n",
    "    23\n",
    "    '''\n",
    "    sample = []\n",
    "    for i in range(x):\n",
    "        month = random.randint(1,12)\n",
    "        if month == 2:\n",
    "            len_month = 29\n",
    "        elif month <= 7:\n",
    "            if month%2 == 0:\n",
    "                len_month = 30\n",
    "            else:\n",
    "                len_month = 31\n",
    "        else:\n",
    "            if month%2 == 0:\n",
    "                len_month = 31\n",
    "            else:\n",
    "                len_month = 30\n",
    "        day = random.randint(1,len_month)\n",
    "        sample = sample + [str(month) + '/' + str(day)]\n",
    "    return sample\n",
    "\n",
    "def test_prob(sample_size, samples):\n",
    "    '''finds the experimental probability that two people have the same birthday in sample_size\n",
    "    using samples number of samples\n",
    "    \n",
    "    '''\n",
    "    tries = 0\n",
    "    successes = 0\n",
    "    for n in range(samples):\n",
    "        sample = generate_sample(sample_size)\n",
    "        if has_duplicates(sample):\n",
    "            successes = successes + 1\n",
    "        tries = tries + 1\n",
    "    return successes/tries\n",
    "\n",
    "print(test_prob(23,10))\n",
    "print(test_prob(23,100))\n",
    "print(test_prob(23,1000))\n",
    "print(test_prob(23,10000))\n",
    "print(test_prob(23,100000))\n",
    "    \n",
    "doctest.testmod()"
   ]
  },
  {
   "cell_type": "markdown",
   "metadata": {},
   "source": [
    "The probability is about 50%"
   ]
  },
  {
   "cell_type": "markdown",
   "metadata": {},
   "source": [
    "### Challenge: Exercise 10.10 (optional)\n",
    "\n",
    "You should read [Chapter 9.1](http://www.greenteapress.com/thinkpython2/html/thinkpython2010.html) and do Exercise 1 first.\n",
    "\n",
    "To check whether a word is in the word list, you could use the `in` operator, but it would be relatively slow because it searches through the words in order (try it).\n",
    "\n",
    "Because the words are in alphabetical order, we can speed things up with a bisection search (also known as binary search), which is similar to what you do when you look a word up in the dictionary. You start in the middle and check to see whether the word you are looking for comes before the word in the middle of the list. If so, then you search the first half of the list the same way. Otherwise you search the second half.\n",
    "\n",
    "Either way, you cut the remaining search space in half. If the word list has 113,809 words, it will take about 17 steps to find the word or conclude that it’s not there.\n",
    "\n",
    "Write a function called `bisect` that takes a sorted list and a target value and returns the index of the value in the list, if it’s there, or `None` if it’s not.\n",
    "\n",
    "Or you could read the documentation of the `bisect` module and use that! Solution: http://greenteapress.com/thinkpython2/code/inlist.py."
   ]
  },
  {
   "cell_type": "code",
   "execution_count": 21,
   "metadata": {
    "collapsed": false
   },
   "outputs": [
    {
     "name": "stdout",
     "output_type": "stream",
     "text": [
      "**********************************************************************\n",
      "File \"__main__\", line 9, in __main__.bisect\n",
      "Failed example:\n",
      "    bisect(19, [1,2,3,4,5,6,7,8,9,10,11,12,13,14,15,16,17,18,19])\n",
      "Expected:\n",
      "    18\n",
      "Got:\n",
      "    17\n",
      "**********************************************************************\n",
      "1 items had failures:\n",
      "   1 of   5 in __main__.bisect\n",
      "***Test Failed*** 1 failures.\n"
     ]
    },
    {
     "data": {
      "text/plain": [
       "TestResults(failed=1, attempted=5)"
      ]
     },
     "execution_count": 21,
     "metadata": {},
     "output_type": "execute_result"
    }
   ],
   "source": [
    "import doctest\n",
    "\n",
    "def bisect(number, a_list):\n",
    "    '''finds the index of number in the ordered a_list of ints\n",
    "    >>> bisect(2, [1,2,3,4,4,4,4,4,4,4,4,4,4,4,4,4,4,4])\n",
    "    1\n",
    "    >>> bisect(18, [1,2,3,4,5,6,7,8,9,10,11,12,13,14,15,16,17,18,19])\n",
    "    17\n",
    "    >>> bisect(19, [1,2,3,4,5,6,7,8,9,10,11,12,13,14,15,16,17,18,19])\n",
    "    18\n",
    "    >>> bisect (0, [1,2,3])\n",
    "    'None'\n",
    "    >>> bisect (1, [1,2,3])\n",
    "    0\n",
    "    '''\n",
    "    length = len(a_list)\n",
    "    found = False\n",
    "    index = 0\n",
    "    while not found:\n",
    "        length = len(a_list)\n",
    "        new_length = length//2\n",
    "        test_number = a_list[new_length]\n",
    "        if length <= 1:\n",
    "            if a_list[0] == number:\n",
    "                found = True\n",
    "                return index\n",
    "            else:\n",
    "                found = True\n",
    "                return 'None'\n",
    "        else:\n",
    "            if test_number == number:\n",
    "                index = index + new_length\n",
    "                found = True\n",
    "                return index\n",
    "            elif test_number >= number:\n",
    "                a_list = a_list[0:new_length]\n",
    "            else:\n",
    "                a_list = a_list[new_length+1:length]\n",
    "                index = index + (length - new_length)\n",
    "    return index\n",
    "\n",
    "\n",
    "doctest.testmod()"
   ]
  },
  {
   "cell_type": "markdown",
   "metadata": {},
   "source": [
    "## Reading Journal feedback\n",
    "\n",
    "Have any comments on this Reading Journal? Feel free to leave them [here](https://goo.gl/forms/hZqCUAi4ir7hVN6x2) and we'll read them when you submit your journal entry. This could include suggestions to improve the exercises, topics you'd like to see covered in class next time, or other feedback.\n",
    "\n",
    "If you have Python questions or run into problems while completing the reading, you should post them to Piazza instead so you can get a quick response before your journal is submitted."
   ]
  },
  {
   "cell_type": "markdown",
   "metadata": {},
   "source": [
    "I really don't get the chop function exercise. What is the point? Is it to show that the function doesn't do anything or does it actually do something that I'm missing?"
   ]
  }
 ],
 "metadata": {
  "kernelspec": {
   "display_name": "Python 3",
   "language": "python",
   "name": "python3"
  },
  "language_info": {
   "codemirror_mode": {
    "name": "ipython",
    "version": 3
   },
   "file_extension": ".py",
   "mimetype": "text/x-python",
   "name": "python",
   "nbconvert_exporter": "python",
   "pygments_lexer": "ipython3",
   "version": "3.4.3"
  }
 },
 "nbformat": 4,
 "nbformat_minor": 0
}
