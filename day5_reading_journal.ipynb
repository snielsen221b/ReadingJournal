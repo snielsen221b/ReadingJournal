{
 "cells": [
  {
   "cell_type": "markdown",
   "metadata": {},
   "source": [
    "# Day 5 Reading Journal\n",
    "\n",
    "This journal includes several required exercises, but it is meant to encourage active reading more generally.  You should use the journal to take detailed notes, catalog questions, and explore the content from Think Python deeply.\n",
    "\n",
    "Reading: Think Python Chapter 4\n",
    "\n",
    "**Due: Thursday, February 2 at 12 noon**\n",
    "\n"
   ]
  },
  {
   "cell_type": "markdown",
   "metadata": {},
   "source": [
    "## [Chapter 4](http://www.greenteapress.com/thinkpython2/html/thinkpython2005.html)\n",
    "\n",
    "In today's reading, you will be exploring the turtle module, which allows you to create images using turtle graphics. The turtle module is included in most Python installations, and you did a quick test with it during the Get Set assignment.\n",
    "\n",
    "### Turtle wrangling\n",
    "\n",
    "You can always run your code as separate Python scripts, but here are a few tips for mixing Turtle with Jupyter notebook:\n",
    "\n",
    " - Turtle will appear in a new GUI window, rather than inline in the notebook like typical results do\n",
    " - You will not be able to close the Turtle window unless you run `turtle.mainloop()` as the last line of your code."
   ]
  },
  {
   "cell_type": "markdown",
   "metadata": {},
   "source": [
    "### Get started\n",
    "\n",
    "Run the code in the cell below and make sure everything works. You should see brave Bob spring into the world and run forward. You can close the window when you're done by clicking on the 'X'. If this simple test doesn't work, check your Python3 install (especially if you get an `ImportError`) and ask for help."
   ]
  },
  {
   "cell_type": "code",
   "execution_count": 6,
   "metadata": {
    "collapsed": false
   },
   "outputs": [],
   "source": [
    "import turtle\n",
    "\n",
    "# Create the world, and a turtle to put in it\n",
    "bob = turtle.Turtle()\n",
    "\n",
    "# Get moving, turtle!\n",
    "bob.fd(100)\n",
    "\n",
    "# Wait for the user to close the window\n",
    "turtle.mainloop()"
   ]
  },
  {
   "cell_type": "markdown",
   "metadata": {},
   "source": [
    "### Chapter 4.1"
   ]
  },
  {
   "cell_type": "code",
   "execution_count": 10,
   "metadata": {
    "collapsed": false
   },
   "outputs": [
    {
     "name": "stdout",
     "output_type": "stream",
     "text": [
      "<turtle.Turtle object at 0x7f8f1403cb38>\n"
     ]
    }
   ],
   "source": [
    "# mypolygon.py\n",
    "from turtle import *\n",
    "\n",
    "bob = Turtle()\n",
    "print(bob)\n",
    "\n",
    "bob.fd(100)\n",
    "bob.lt(90)\n",
    "bob.fd(100)\n",
    "\n",
    "turtle.mainloop()"
   ]
  },
  {
   "cell_type": "code",
   "execution_count": 11,
   "metadata": {
    "collapsed": false
   },
   "outputs": [
    {
     "name": "stdout",
     "output_type": "stream",
     "text": [
      "<turtle.Turtle object at 0x7f8f14056828>\n"
     ]
    }
   ],
   "source": [
    "# square\n",
    "from turtle import *\n",
    "\n",
    "bob = Turtle()\n",
    "\n",
    "for i in range(4):\n",
    "    bob.fd(100)\n",
    "    bob.lt(90)\n",
    "\n",
    "turtle.mainloop()"
   ]
  },
  {
   "cell_type": "markdown",
   "metadata": {
    "is_question": true,
    "problem": "Section 4.3"
   },
   "source": [
    "### Chapter 4.3\n",
    "Work through exercises 1-5 in Chapter 4.3, creating the `square`, `polygon`, `circle`, and `arc` functions. You can reference Allen's solutions, but please try the problems on your own first."
   ]
  },
  {
   "cell_type": "code",
   "execution_count": 13,
   "metadata": {
    "collapsed": false,
    "solution": "Section 4.3"
   },
   "outputs": [],
   "source": [
    "# Exercise 1\n",
    "from turtle import *\n",
    "\n",
    "def square(turtle):\n",
    "    for i in range(4):\n",
    "        turtle.fd(100)\n",
    "        turtle.lt(90)\n",
    "\n",
    "bob = Turtle()\n",
    "\n",
    "square(bob)\n",
    "\n",
    "turtle.mainloop()"
   ]
  },
  {
   "cell_type": "code",
   "execution_count": 14,
   "metadata": {
    "collapsed": true
   },
   "outputs": [],
   "source": [
    "# Exercise 2\n",
    "from turtle import *\n",
    "\n",
    "def square(turtle, length):\n",
    "    for i in range(4):\n",
    "        turtle.fd(length)\n",
    "        turtle.lt(90)\n",
    "\n",
    "bob = Turtle()\n",
    "\n",
    "square(bob,200)\n",
    "\n",
    "turtle.mainloop()"
   ]
  },
  {
   "cell_type": "code",
   "execution_count": 20,
   "metadata": {
    "collapsed": true
   },
   "outputs": [],
   "source": [
    "# Exercise 3\n",
    "from turtle import *\n",
    "\n",
    "def polygon(turtle, length, n):\n",
    "    angle = 360/n\n",
    "    for i in range(n):\n",
    "        turtle.fd(length)\n",
    "        turtle.lt(angle)\n",
    "\n",
    "bob = Turtle()\n",
    "\n",
    "polygon(bob,50,17)\n",
    "\n",
    "turtle.mainloop()"
   ]
  },
  {
   "cell_type": "code",
   "execution_count": null,
   "metadata": {
    "collapsed": true
   },
   "outputs": [],
   "source": [
    "# Exercise 3\n",
    "from turtle import *\n",
    "\n",
    "def polygon(turtle, length, n):\n",
    "    angle = 360/n\n",
    "    for i in range(n):\n",
    "        turtle.fd(length)\n",
    "        turtle.lt(angle)\n",
    "\n",
    "bob = Turtle()\n",
    "\n",
    "polygon(bob,50,17)\n",
    "\n",
    "turtle.mainloop()"
   ]
  },
  {
   "cell_type": "code",
   "execution_count": 4,
   "metadata": {
    "collapsed": false
   },
   "outputs": [],
   "source": [
    "# Exercise 4\n",
    "from turtle import *\n",
    "import math\n",
    "\n",
    "def polygon(turtle, length, n):\n",
    "    angle = 360/n\n",
    "    for i in range(n):\n",
    "        turtle.fd(length)\n",
    "        turtle.lt(angle)\n",
    "def circle(t,r):\n",
    "    angle_radians = math.radians(1)\n",
    "    length = 2*r*math.sin(angle_radians)\n",
    "    polygon(t,length,360)\n",
    "\n",
    "bob = Turtle()\n",
    "\n",
    "circle(bob,100)\n",
    "\n",
    "mainloop()"
   ]
  },
  {
   "cell_type": "code",
   "execution_count": 8,
   "metadata": {
    "collapsed": false
   },
   "outputs": [],
   "source": [
    "# Exercise 5\n",
    "from turtle import *\n",
    "import math\n",
    "\n",
    "def polygon(turtle, length, n, angle):\n",
    "    for i in range(n):\n",
    "        turtle.fd(length)\n",
    "        turtle.lt(angle)\n",
    "def arc(t,r,arc_angle):\n",
    "    angle = 1\n",
    "    radians = math.radians(angle)\n",
    "    length = 2*r*math.sin(radians)\n",
    "    polygon(t,length,arc_angle,angle)\n",
    "\n",
    "bob = Turtle()\n",
    "\n",
    "arc(bob, 100, 90)\n",
    "\n",
    "mainloop()"
   ]
  },
  {
   "cell_type": "markdown",
   "metadata": {
    "is_question": true,
    "problem": "More fun"
   },
   "source": [
    "### Chapter 4.12\n",
    "#### More fun with Turtles!\n",
    "Complete at least one of Exercise 2, 3, 4, or 5. If you come up with some cool drawings you'd like to share with the rest of the class, let us know!"
   ]
  },
  {
   "cell_type": "code",
   "execution_count": null,
   "metadata": {
    "collapsed": false,
    "solution": "More fun"
   },
   "outputs": [],
   "source": [
    "# Exercise 2\n",
    "from turtle import *\n",
    "import math\n",
    "\n",
    "def polygon(turtle, length, n, angle):\n",
    "    '''draws polygon with turtle with \n",
    "    side length length, n sides,\n",
    "    and angle angle'''\n",
    "    for i in range(n):\n",
    "        turtle.fd(length)\n",
    "        turtle.lt(angle)\n",
    "        \n",
    "        \n",
    "def arc(t,r,arc_angle):\n",
    "    '''draws arc of radius r \n",
    "    and arc_angle angle'''\n",
    "    angle = 1\n",
    "    radians = math.radians(angle)\n",
    "    length = 2*r*math.sin(radians)\n",
    "    polygon(t,length,arc_angle,angle)\n",
    "\n",
    "    \n",
    "def petal(t,r,n,angle):\n",
    "    '''draws petals with arc radius r\n",
    "    n = number of total petals'''\n",
    "    for i in range(2):\n",
    "        arc(t,r,angle)\n",
    "        t.lt(180-angle)\n",
    "    \n",
    "    \n",
    "def flower(t,r,n,angle):\n",
    "    '''draws flower with arc radius r \n",
    "    and petals number of petals'''\n",
    "    for i in range(n):\n",
    "        petal(t,r,n,angle)\n",
    "        t.lt(360/n)\n",
    "        \n",
    "\n",
    "bob = Turtle()\n",
    "\n",
    "flower(bob, 60, 7, 60)\n",
    "\n",
    "mainloop()\n",
    "flower(bob)"
   ]
  },
  {
   "cell_type": "markdown",
   "metadata": {},
   "source": [
    "## Reading Journal feedback\n",
    "\n",
    "[Please complete this short survey](https://docs.google.com/forms/d/e/1FAIpQLScQekhUrf6YYjpfQiAAbavLIA-IJklv_PX1BWbGgxj7JPolmw/viewform?c=0&w=1)\n",
    "\n",
    "If you have any comments on this Reading Journal, feel free to leave them in the survey linked above. This could include suggestions to improve the exercises, topics you'd like to see covered in class next time, or other feedback.\n",
    "\n",
    "If you have Python questions or run into problems while completing the reading, you should post them to Piazza instead so you can get a quick response before your journal is submitted."
   ]
  },
  {
   "cell_type": "markdown",
   "metadata": {},
   "source": [
    " "
   ]
  }
 ],
 "metadata": {
  "kernelspec": {
   "display_name": "Python 3",
   "language": "python",
   "name": "python3"
  },
  "language_info": {
   "codemirror_mode": {
    "name": "ipython",
    "version": 3
   },
   "file_extension": ".py",
   "mimetype": "text/x-python",
   "name": "python",
   "nbconvert_exporter": "python",
   "pygments_lexer": "ipython3",
   "version": "3.4.3"
  }
 },
 "nbformat": 4,
 "nbformat_minor": 0
}
