{
 "cells": [
  {
   "cell_type": "markdown",
   "metadata": {},
   "source": [
    "# Day 8 Reading Journal\n",
    "\n",
    "This journal includes several required exercises, but it is meant to encourage active reading more generally.  You should use the journal to take detailed notes, catalog questions, and explore the content from Think Python deeply.\n",
    "\n",
    "Reading: Think Python Chapter 13, 15\n",
    "\n",
    "**Due: Thursday, February 16 at 12 noon**\n",
    "\n"
   ]
  },
  {
   "cell_type": "markdown",
   "metadata": {},
   "source": [
    "## [Chapter 13](http://www.greenteapress.com/thinkpython2/html/thinkpython2014.html)\n",
    "\n",
    "The content in this chapter could be very helpful for the text mining mini project. The reading and all exercises within are optional.\n",
    "\n",
    " - Section 13.3-4 gives a good example of some techniques for working with files, processing text, and doing some simple analysis. \n",
    " - Section 13.8 and the Markov generation in Exercise 8 can be a lot of fun. \n",
    " - Now that you know a wide range of different data structures, Section 13.9 starts to give some guidance for choosing between them\n",
    " - Section 13.10 explains Allen's \"4 r's\" of debugging strategy"
   ]
  },
  {
   "cell_type": "markdown",
   "metadata": {},
   "source": [
    "### 13.1 Notes\n"
   ]
  },
  {
   "cell_type": "code",
   "execution_count": 8,
   "metadata": {
    "collapsed": false
   },
   "outputs": [
    {
     "ename": "TypeError",
     "evalue": "Can't convert 'int' object to str implicitly",
     "output_type": "error",
     "traceback": [
      "\u001b[0;31m---------------------------------------------------------------------------\u001b[0m",
      "\u001b[0;31mTypeError\u001b[0m                                 Traceback (most recent call last)",
      "\u001b[0;32m<ipython-input-8-69a39e5777f5>\u001b[0m in \u001b[0;36m<module>\u001b[0;34m()\u001b[0m\n\u001b[1;32m     74\u001b[0m \u001b[0;34m\u001b[0m\u001b[0m\n\u001b[1;32m     75\u001b[0m \u001b[0;34m\u001b[0m\u001b[0m\n\u001b[0;32m---> 76\u001b[0;31m \u001b[0msorted_frequency\u001b[0m\u001b[0;34m(\u001b[0m\u001b[0;34m\"theprince.txt\"\u001b[0m\u001b[0;34m)\u001b[0m\u001b[0;34m\u001b[0m\u001b[0m\n\u001b[0m",
      "\u001b[0;32m<ipython-input-8-69a39e5777f5>\u001b[0m in \u001b[0;36msorted_frequency\u001b[0;34m(filename)\u001b[0m\n\u001b[1;32m     64\u001b[0m     \u001b[0;32mfor\u001b[0m \u001b[0mi\u001b[0m \u001b[0;32min\u001b[0m \u001b[0mrange\u001b[0m\u001b[0;34m(\u001b[0m\u001b[0mlen\u001b[0m\u001b[0;34m(\u001b[0m\u001b[0mfrequency_words\u001b[0m\u001b[0;34m)\u001b[0m\u001b[0;34m)\u001b[0m\u001b[0;34m:\u001b[0m\u001b[0;34m\u001b[0m\u001b[0m\n\u001b[1;32m     65\u001b[0m         \u001b[0;32mfor\u001b[0m \u001b[0mj\u001b[0m \u001b[0;32min\u001b[0m \u001b[0mfrequency_words\u001b[0m\u001b[0;34m:\u001b[0m\u001b[0;34m\u001b[0m\u001b[0m\n\u001b[0;32m---> 66\u001b[0;31m             \u001b[0;32mif\u001b[0m \u001b[0mfrequency_words\u001b[0m\u001b[0;34m[\u001b[0m\u001b[0mj\u001b[0m\u001b[0;34m]\u001b[0m \u001b[0;34m<\u001b[0m \u001b[0mfrequency_words\u001b[0m\u001b[0;34m[\u001b[0m\u001b[0mj\u001b[0m\u001b[0;34m+\u001b[0m\u001b[0;36m1\u001b[0m\u001b[0;34m]\u001b[0m\u001b[0;34m:\u001b[0m\u001b[0;34m\u001b[0m\u001b[0m\n\u001b[0m\u001b[1;32m     67\u001b[0m                 \u001b[0mfrequency_words\u001b[0m\u001b[0;34m[\u001b[0m\u001b[0mj\u001b[0m\u001b[0;34m]\u001b[0m\u001b[0;34m,\u001b[0m \u001b[0mfrequency_words\u001b[0m\u001b[0;34m[\u001b[0m\u001b[0mj\u001b[0m\u001b[0;34m+\u001b[0m\u001b[0;36m1\u001b[0m\u001b[0;34m]\u001b[0m \u001b[0;34m=\u001b[0m \u001b[0mfrequency_words\u001b[0m\u001b[0;34m[\u001b[0m\u001b[0mj\u001b[0m\u001b[0;34m+\u001b[0m\u001b[0;36m1\u001b[0m\u001b[0;34m]\u001b[0m\u001b[0;34m,\u001b[0m \u001b[0mfrequency_words\u001b[0m\u001b[0;34m[\u001b[0m\u001b[0mj\u001b[0m\u001b[0;34m]\u001b[0m\u001b[0;34m\u001b[0m\u001b[0m\n\u001b[1;32m     68\u001b[0m \u001b[0;34m\u001b[0m\u001b[0m\n",
      "\u001b[0;31mTypeError\u001b[0m: Can't convert 'int' object to str implicitly"
     ]
    }
   ],
   "source": [
    "import string\n",
    "\n",
    "def read(filename):\n",
    "    '''reads file, break each line into words,\n",
    "    strips whitespace and punctuation'''\n",
    "    f = open(filename, \"r\")\n",
    "    f_read = []\n",
    "    \n",
    "    for l in f.readlines():\n",
    "        word = ''\n",
    "        for c in l:\n",
    "            if c not in string.whitespace:\n",
    "                word = word + c\n",
    "            else:\n",
    "                if word != '':\n",
    "                    f_read = f_read + [word.lower().strip()]\n",
    "                    word = ''\n",
    "    return f_read\n",
    "\n",
    "def read_book(filename):\n",
    "    '''starts book at *** start and ends at *** end'''\n",
    "    book = read(filename)\n",
    "    i = 0\n",
    "    length = len(book)\n",
    "    while i < length - 1:\n",
    "        if (book[i] + book[i+1]) == '***start':\n",
    "            book = book[i+2:len(book)]\n",
    "            length = len(book)\n",
    "        elif (book[i] + book[i+1]) == 'end***':\n",
    "            book = book[0:i-1]\n",
    "        else:\n",
    "            book = book\n",
    "        i = i + 1\n",
    "        \n",
    "    return book\n",
    "\n",
    "def word_frequency(filename):\n",
    "    '''returns total number of words and frequency \n",
    "    of every word'''\n",
    "    book = read_book(filename)\n",
    "    d = dict()\n",
    "    word_total = 0\n",
    "    \n",
    "    for w in book:\n",
    "        frequency = d.get(w, 0)\n",
    "        d[w] = frequency + 1\n",
    "    \n",
    "    for x in d:\n",
    "        word_total = word_total + d[x]\n",
    "    \n",
    "    frequency_analysis = d, word_total\n",
    "        \n",
    "    return frequency_analysis\n",
    "\n",
    "def sorted_frequency(filename):\n",
    "    '''sorts words by frequency, prints 20 most frequent'''\n",
    "    frequency_analysis = word_frequency(filename)\n",
    "    \n",
    "    # frequency_words is a dictionary with keys words\n",
    "    # and values frequaeny of word\n",
    "    frequency_words = frequency_analysis[0]\n",
    "    \n",
    "    # sort\n",
    "    for i in range(len(frequency_words)):\n",
    "        for j in frequency_words:\n",
    "            if frequency_words[j] < frequency_words[j+1]:\n",
    "                frequency_words[j], frequency_words[j+1] = frequency_words[j+1], frequency_words[j]\n",
    "    \n",
    "    # print\n",
    "    for i in range(20):\n",
    "        print(frequency_words[i][0])\n",
    "        \n",
    "    return frequcency_words\n",
    "    \n",
    "\n",
    "sorted_frequency(\"theprince.txt\")\n"
   ]
  },
  {
   "cell_type": "markdown",
   "metadata": {},
   "source": [
    "## [Chapter 15](http://www.greenteapress.com/thinkpython2/html/thinkpython2016.html)\n",
    "\n",
    "This chapter has very few (and short) exercises, and is more focused on starting to think about classes and objects. If you haven't seen user defined types like classes before, you should read closely and try out some examples on your own. For example, you can write a [Python Tutor example like this one](http://pythontutor.com/visualize.html#code=%23+Example+for+visualizing+object+diagrams+by+stepping+through+the+code%0A%0Aclass+Point(object%29%3A%0A++++%22%22%22Represents+a+point+in+2-D+space.%22%22%22%0A++++pass%0A%0Aclass+Rectangle(object%29%3A%0A++++%22%22%22Represents+a+rectangle.+%0A%0A++++attributes%3A+width,+height,+corner.%0A++++%22%22%22%0A++++pass%0A%0A%0A%23+Create+a+point+to+serve+as+origin+for+our+rectangles%0Ap+%3D+Point(%29%0Ap.x+%3D+10%0Ap.y+%3D+15%0A%0A%23+Create+two+rectangles+with+different+size%0Ar1+%3D+Rectangle(%29%0Ar1.corner+%3D+p%0Ar1.width+%3D+100%0Ar1.height+%3D+100%0A%0Ar2+%3D+Rectangle(%29%0Ar2.corner+%3D+p%0Ar2.width+%3D+50%0Ar2.height+%3D+200%0A%0A%23+Change+the+width+of+r2+-+what+(if+any%29+is+the+effect+on+r1+and+why%3F%0Ar2.width+%3D+150%0Aprint+r1.width%0A%0A%23+Change+the+corner+position+of+r1+-+what+(if+any%29+is+the+effect+on+r2+and+why%3F%0Ar1.corner.x+%3D+20%0Aprint+r2.corner.x&mode=display&origin=opt-frontend.js&cumulative=false&heapPrimitives=false&textReferences=false&py=2&rawInputLstJSON=%5B%5D&curInstr=0) to explore object diagrams and aliasing.\n",
    "\n",
    "**Note**: The sequence of operations we use in this chapter to create class instances and assign their attributes, e.g. \n",
    "\n",
    "```\n",
    "box = Rectangle()\n",
    "box.width = 100.0\n",
    "box.height = 200.0\n",
    "box.corner = Point()\n",
    "box.corner.x = 0.0\n",
    "box.corner.y = 0.0\n",
    "```\n",
    "\n",
    "is somewhat clumsy and error prone. Things will get better in the next couple chapters; feel free to look ahead if you'd like a sneak preview.\n"
   ]
  },
  {
   "cell_type": "markdown",
   "metadata": {},
   "source": [
    "**Quick check:** In about one sentence using your own words, what is a class?"
   ]
  },
  {
   "cell_type": "markdown",
   "metadata": {},
   "source": [
    "a class a group that an object belongs to that gives it a certain set of standardized attributes "
   ]
  },
  {
   "cell_type": "markdown",
   "metadata": {
    "is_question": true,
    "problem": "Exercise 15.1"
   },
   "source": [
    "### Chapter 15.2  \n",
    "\n",
    "Write a function called `distance_between_points` that takes two `Points` as arguments and returns the distance between them."
   ]
  },
  {
   "cell_type": "code",
   "execution_count": 15,
   "metadata": {
    "collapsed": false,
    "solution": "Exercise 15.1"
   },
   "outputs": [
    {
     "data": {
      "text/plain": [
       "5.0"
      ]
     },
     "execution_count": 15,
     "metadata": {},
     "output_type": "execute_result"
    }
   ],
   "source": [
    "class Point:\n",
    "    \n",
    "    def __init__(self, x=0, y=0):\n",
    "        '''create a new point at x, y'''\n",
    "        self.x = x\n",
    "        self.y = y\n",
    "\n",
    "    def distance_from_origin(self):\n",
    "        '''finds distance of point from origin'''\n",
    "        dist = (self.x**2 + self.y**2)**.5\n",
    "        return dist\n",
    "\n",
    "def distance_between_points(point1, point2):\n",
    "    '''takes argument type Point\n",
    "    \n",
    "    '''\n",
    "    dist_x = point1.x - point2.x\n",
    "    dist_y = point1.y - point2.y\n",
    "    dist = (dist_x**2 + dist_y**2)**.5\n",
    "    return dist\n",
    "\n",
    "p1 = Point(3, 4)\n",
    "p2 = Point(6, 8)\n",
    "\n",
    "distance_between_points(p1, p2)"
   ]
  },
  {
   "cell_type": "markdown",
   "metadata": {
    "is_question": true,
    "problem": "Exercise 15.2"
   },
   "source": [
    "### Chapter 15.5\n",
    "\n",
    "Write a function named `move_rectangle` that takes a `Rectangle` and two numbers named `dx` and `dy`. It should change the location of the rectangle by adding `dx` to the `x` coordinate of `corner` and adding `dy` to the `y` coordinate of `corner`."
   ]
  },
  {
   "cell_type": "code",
   "execution_count": 17,
   "metadata": {
    "collapsed": false,
    "solution": "Exercise 15.2"
   },
   "outputs": [
    {
     "name": "stdout",
     "output_type": "stream",
     "text": [
      "2 3 2 3\n"
     ]
    }
   ],
   "source": [
    "class Rectangle:\n",
    "    \n",
    "    def __init__(self, corner=Point(0,0), width=0, hieght=0):\n",
    "        self.corner = corner\n",
    "        self.width = width\n",
    "        self.hieght = hieght\n",
    "        \n",
    "    def change_location(self, dx, dy):\n",
    "        self.corner.x = self.corner.x + dx\n",
    "        self.corner.y = self.corner.y + dy\n",
    "    \n",
    "    def print_rect(self):\n",
    "        print(self.corner.x, self.corner.y, self.width, self.hieght)\n",
    "        \n",
    "rect = Rectangle(Point(0,0), 2, 3)\n",
    "rect.change_location(2, 3)\n",
    "rect.print_rect()"
   ]
  },
  {
   "cell_type": "markdown",
   "metadata": {
    "is_question": true,
    "problem": "Exercise 15.3"
   },
   "source": [
    "### Exercise 15.6\n",
    "\n",
    "Write a version of `move_rectangle` that creates and returns a new `Rectangle` instead of modifying the old one."
   ]
  },
  {
   "cell_type": "code",
   "execution_count": 19,
   "metadata": {
    "collapsed": false,
    "solution": "Exercise 15.3"
   },
   "outputs": [
    {
     "name": "stdout",
     "output_type": "stream",
     "text": [
      "0 0 2 3\n",
      "2 3 2 3\n"
     ]
    }
   ],
   "source": [
    "class Rectangle:\n",
    "    \n",
    "    def __init__(self, corner=Point(0,0), width=0, hieght=0):\n",
    "        self.corner = corner\n",
    "        self.width = width\n",
    "        self.hieght = hieght\n",
    "        \n",
    "    def change_location(self, dx, dy):\n",
    "        '''updates/changes corner of rectangle'''\n",
    "        self.corner.x = self.corner.x + dx\n",
    "        self.corner.y = self.corner.y + dy\n",
    "        \n",
    "    def move_rectangle(self, dx, dy):\n",
    "        '''creates new rectangle from translation'''\n",
    "        corner_x = self.corner.x + dx\n",
    "        corner_y = self.corner.y + dy\n",
    "        rect = Rectangle(Point(corner_x,corner_y), self.width, self.hieght)\n",
    "        return rect\n",
    "    \n",
    "    def print_rect(self):\n",
    "        print(self.corner.x, self.corner.y, self.width, self.hieght)\n",
    "        \n",
    "rect = Rectangle(Point(0,0), 2, 3)\n",
    "rect2 = rect.move_rectangle(2, 3)\n",
    "rect.print_rect()\n",
    "rect2.print_rect()"
   ]
  },
  {
   "cell_type": "markdown",
   "metadata": {
    "poll_response": true,
    "solution": "Time spent"
   },
   "source": [
    " "
   ]
  },
  {
   "cell_type": "markdown",
   "metadata": {
    "is_question": true,
    "problem": "Feedback"
   },
   "source": [
    "## Reading Journal feedback\n",
    "\n",
    "[Please complete this short survey](https://docs.google.com/forms/d/e/1FAIpQLScQekhUrf6YYjpfQiAAbavLIA-IJklv_PX1BWbGgxj7JPolmw/viewform?c=0&w=1)\n",
    "\n",
    "If you have any comments on this Reading Journal, feel free to leave them in the survey linked above. This could include suggestions to improve the exercises, topics you'd like to see covered in class next time, or other feedback.\n",
    "\n",
    "If you have Python questions or run into problems while completing the reading, you should post them to Piazza instead so you can get a quick response before your journal is submitted."
   ]
  },
  {
   "cell_type": "markdown",
   "metadata": {
    "feedback_response": true,
    "solution": "Feedback"
   },
   "source": [
    " "
   ]
  }
 ],
 "metadata": {
  "kernelspec": {
   "display_name": "Python 3",
   "language": "python",
   "name": "python3"
  },
  "language_info": {
   "codemirror_mode": {
    "name": "ipython",
    "version": 3
   },
   "file_extension": ".py",
   "mimetype": "text/x-python",
   "name": "python",
   "nbconvert_exporter": "python",
   "pygments_lexer": "ipython3",
   "version": "3.4.3"
  }
 },
 "nbformat": 4,
 "nbformat_minor": 0
}
